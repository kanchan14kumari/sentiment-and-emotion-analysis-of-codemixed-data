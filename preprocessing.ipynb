{
  "cells": [
    {
      "cell_type": "markdown",
      "metadata": {
        "id": "view-in-github",
        "colab_type": "text"
      },
      "source": [
        "<a href=\"https://colab.research.google.com/github/kanchan14kumari/sentiment-and-emotion-analysis-of-codemixed-data/blob/main/Untitled5.ipynb\" target=\"_parent\"><img src=\"https://colab.research.google.com/assets/colab-badge.svg\" alt=\"Open In Colab\"/></a>"
      ]
    },
    {
      "cell_type": "code",
      "execution_count": null,
      "metadata": {
        "id": "JJZb4KEdn9S9"
      },
      "outputs": [],
      "source": [
        "import pandas as pd"
      ]
    },
    {
      "cell_type": "code",
      "execution_count": null,
      "metadata": {
        "id": "pstgsdnGoPsr"
      },
      "outputs": [],
      "source": [
        "df1 = pd.read_csv('Cleaned_tweets_Val.csv')\n",
        "df2 = pd.read_csv('Cleaned_tweets_test.csv')\n",
        "df3 = pd.read_csv('Cleaned_tweets_train.csv')"
      ]
    },
    {
      "cell_type": "code",
      "source": [
        "import pandas as pd\n",
        "import numpy as np\n",
        "import re\n",
        "import json\n",
        "\n",
        "\n",
        "# All the nltk imports\n",
        "from nltk.stem import PorterStemmer, WordNetLemmatizer, SnowballStemmer\n",
        "from nltk.corpus import wordnet, stopwords\n",
        "from nltk.tokenize import word_tokenize"
      ],
      "metadata": {
        "id": "JCRyKQAHfA-u"
      },
      "execution_count": null,
      "outputs": []
    },
    {
      "cell_type": "code",
      "source": [
        "import nltk\n",
        "nltk.download('punkt')\n",
        "nltk.download('wordnet')\n",
        "nltk.download('stopwords')"
      ],
      "metadata": {
        "colab": {
          "base_uri": "https://localhost:8080/"
        },
        "id": "Ye5usky5fXrw",
        "outputId": "6d2f2f9e-7e7d-4d59-8247-3121a5aa29a1"
      },
      "execution_count": null,
      "outputs": [
        {
          "output_type": "stream",
          "name": "stderr",
          "text": [
            "[nltk_data] Downloading package punkt to /root/nltk_data...\n",
            "[nltk_data]   Package punkt is already up-to-date!\n",
            "[nltk_data] Downloading package wordnet to /root/nltk_data...\n",
            "[nltk_data]   Package wordnet is already up-to-date!\n",
            "[nltk_data] Downloading package stopwords to /root/nltk_data...\n",
            "[nltk_data]   Package stopwords is already up-to-date!\n"
          ]
        },
        {
          "output_type": "execute_result",
          "data": {
            "text/plain": [
              "True"
            ]
          },
          "metadata": {},
          "execution_count": 33
        }
      ]
    },
    {
      "cell_type": "code",
      "source": [],
      "metadata": {
        "id": "xV3BpYYxeQnN"
      },
      "execution_count": null,
      "outputs": []
    },
    {
      "cell_type": "code",
      "execution_count": null,
      "metadata": {
        "id": "3Pzookzvoecs"
      },
      "outputs": [],
      "source": [
        "# Task2 : Stemming\n",
        "##  Define function to perform stemming on words\n",
        "\n",
        "stemmer = PorterStemmer()\n",
        "\n",
        "# def perform_stemming(token):\n",
        "#     if token['Language'] == 'Hin':\n",
        "#         perform_hin_stemming(token['Words'])\n",
        "#     else:\n",
        "#         perform_eng_stemming(token['Words'])\n",
        "\n",
        "def perform_stemming(text):\n",
        "    tokens = word_tokenize(text)\n",
        "    stemmed_words = [stemmer.stem(token) for token in tokens]\n",
        "    return ' '.join(stemmed_words)\n",
        "\n",
        "def perform_eng_stemming(word):\n",
        "    stemmed_word = stemmer.stem(word)\n",
        "    return stemmed_word\n",
        "\n",
        "def perform_hin_stemming(word):\n",
        "    stemmed_word = re.sub(r'(.{2,}?)([aeiougyn]+$)',r'\\1', word)\n",
        "    return stemmed_word\n",
        "\n",
        "## Perform stemming based on if the Language assigned in hindi or english\n",
        "# df['Words'] = df['Words'].apply(lambda token: perform_stemming(token), axis=1)\n",
        "df1['tweet'] = df1['tweet'].apply(perform_stemming)\n",
        "df2['tweet'] = df2['tweet'].apply(perform_stemming)\n",
        "df3['tweet'] = df3['tweet'].apply(perform_stemming)\n",
        "\n",
        "\n"
      ]
    },
    {
      "cell_type": "code",
      "source": [
        "lemmatizer = WordNetLemmatizer()\n",
        "def perform_lemmatization(text):\n",
        "    tokens = word_tokenize(text)\n",
        "    lemmatized_words = [lemmatizer.lemmatize(token, pos=wordnet.VERB) for token in tokens]\n",
        "    return ' '.join(lemmatized_words)\n",
        "\n",
        "\n",
        "df1['tweet'] = df1['tweet'].apply(perform_lemmatization)\n",
        "df2['tweet'] = df2['tweet'].apply(perform_lemmatization)\n",
        "df3['tweet'] = df3['tweet'].apply(perform_lemmatization)"
      ],
      "metadata": {
        "id": "Ybr-DDShfwQR"
      },
      "execution_count": null,
      "outputs": []
    },
    {
      "cell_type": "code",
      "execution_count": null,
      "metadata": {
        "id": "uSgfSnPNooLI"
      },
      "outputs": [],
      "source": [
        "# Task 4 : Remove stopwords\n",
        "\n",
        "stop_words_set_eng = set(stopwords.words('english'))\n",
        "stop_words_set_hin = set([\n",
        "    'is', 'ke', 'ka', 'ek', 'hai', 'hain', 'ki', 'ko', 'mein', 'se', 'par', 'bhi', 'ke', 'liye', 'saath',\n",
        "    'ho', 'kar', 'vale', 'vali', 'kuch', 'jo', 'to', 'hi', 'tak', 'ya', 'hote', 'hota', 'tha', 'the',\n",
        "    'ab', 'jab', 'kahaa', 'kisi', 'ne', 'unke', 'uske', 'uski', 'usmein', 'uskoe', 'usse', 'iskay',\n",
        "    'iski', 'ismein', 'iskoe', 'isse', 'tab', 'phir', 'jaise', 'jiske', 'jiskee', 'jismein', 'jiskoe',\n",
        "    'jisse', 'yah', 'yahee', 'ye', 'vah', 'vahee', 've', 'kai', 'kul', 'door', 'parantu', 'aap', 'tum',\n",
        "    'tumhara', 'tumhare', 'main', 'mera', 'mere', 'ham', 'hamara', 'hamare', 'apna', 'apne', 'khud',\n",
        "    'yahan', 'vahan', 'sabka', 'sabke', 'kisi', 'kise', 'sabhi', 'sab', 'koi', 'kuch', 'kisi',\n",
        "    'kisi', 'kisi', 'koi', 'dusra', 'any', 'any', 'aur', 'etc'\n",
        "])\n",
        "\n",
        "stop_words_set = stop_words_set_eng | stop_words_set_hin\n",
        "\n",
        "# def check_if_stopwords(word):\n",
        "#     return word not in stop_words_set\n",
        "\n",
        "\n",
        "# # df['Words'] = df['Words'].apply(lambda token: check_if_stopwords(token))\n",
        "# for i in stop_words_set:\n",
        "#     df = df[df['Words'] != i]\n",
        "\n",
        "def remove_stopwords(text):\n",
        "    filtered_tokens = []\n",
        "    tokens = word_tokenize(text)\n",
        "    for t in tokens:\n",
        "        if t not in stop_words_set:\n",
        "            filtered_tokens.append(t)\n",
        "    return ' '.join(filtered_tokens)\n",
        "\n",
        "df1['tweet']= df1['tweet'].apply(remove_stopwords)\n",
        "df2['tweet']= df2['tweet'].apply(remove_stopwords)\n",
        "df3['tweet']= df3['tweet'].apply(remove_stopwords)"
      ]
    },
    {
      "cell_type": "code",
      "execution_count": null,
      "metadata": {
        "id": "CDUZU6iBo6MK"
      },
      "outputs": [],
      "source": [
        "df1.to_csv('preprocessed_val.csv', index=False)\n",
        "df2.to_csv('preprocessed_test.csv', index=False)\n",
        "df3.to_csv('preprocessed_train.csv', index=False)"
      ]
    },
    {
      "cell_type": "code",
      "execution_count": null,
      "metadata": {
        "id": "P4TCYo0to-vD"
      },
      "outputs": [],
      "source": []
    },
    {
      "cell_type": "code",
      "source": [],
      "metadata": {
        "id": "cL1AlUE9mHeg"
      },
      "execution_count": null,
      "outputs": []
    }
  ],
  "metadata": {
    "colab": {
      "provenance": [],
      "include_colab_link": true
    },
    "kernelspec": {
      "display_name": "Python 3",
      "name": "python3"
    },
    "language_info": {
      "name": "python"
    }
  },
  "nbformat": 4,
  "nbformat_minor": 0
}
